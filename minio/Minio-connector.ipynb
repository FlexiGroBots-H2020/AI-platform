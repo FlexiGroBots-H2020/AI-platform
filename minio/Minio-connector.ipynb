{
 "cells": [
  {
   "cell_type": "markdown",
   "metadata": {},
   "source": [
    "## Libraries and dependencies"
   ]
  },
  {
   "cell_type": "code",
   "execution_count": 1,
   "metadata": {},
   "outputs": [],
   "source": [
    "from minio import Minio\n",
    "import os\n",
    "from dotenv import load_dotenv"
   ]
  },
  {
   "cell_type": "code",
   "execution_count": null,
   "metadata": {},
   "outputs": [],
   "source": [
    "!pip3 freeze > requirements.txt"
   ]
  },
  {
   "cell_type": "markdown",
   "metadata": {},
   "source": [
    "## Minio's functions"
   ]
  },
  {
   "cell_type": "markdown",
   "metadata": {},
   "source": [
    "### Connect with Minio"
   ]
  },
  {
   "cell_type": "code",
   "execution_count": 17,
   "metadata": {},
   "outputs": [
    {
     "name": "stdout",
     "output_type": "stream",
     "text": [
      "minio-cli.platform.flexigrobots-h2020.eu\n"
     ]
    }
   ],
   "source": [
    "load_dotenv(override=True)\n",
    "print(os.getenv(\"MINIO_DOMAIN\"))"
   ]
  },
  {
   "cell_type": "code",
   "execution_count": 18,
   "metadata": {},
   "outputs": [],
   "source": [
    "def conect_minio():\n",
    "    load_dotenv()\n",
    "    return Minio(os.getenv(\"MINIO_DOMAIN\"),\n",
    "                access_key = os.getenv('MINIO_ACCESS_KEY'),\n",
    "                secret_key = os.getenv('MINIO_SECRET_KEY'),\n",
    "                secure = True\n",
    "    )"
   ]
  },
  {
   "cell_type": "markdown",
   "metadata": {},
   "source": [
    "### Download datasets from Minio"
   ]
  },
  {
   "cell_type": "code",
   "execution_count": 20,
   "metadata": {},
   "outputs": [],
   "source": [
    "def Download_data(bucket_name, file_path):\n",
    "    global client\n",
    "    try:\n",
    "        for item in client.list_objects(bucket_name,  recursive=True):\n",
    "            client.fget_object(bucket_name, item.object_name, os.path.join(file_path,item.object_name))\n",
    "    except:\n",
    "        print(\"Object storage not reachable\")"
   ]
  },
  {
   "cell_type": "markdown",
   "metadata": {},
   "source": [
    "# Select Dataset"
   ]
  },
  {
   "cell_type": "markdown",
   "metadata": {},
   "source": [
    "### Open session and select download path (Directly)"
   ]
  },
  {
   "cell_type": "code",
   "execution_count": 21,
   "metadata": {},
   "outputs": [],
   "source": [
    "client = conect_minio()\n",
    "file_path='/mnt/c/Users/a868775/David_dataset'"
   ]
  },
  {
   "cell_type": "code",
   "execution_count": 23,
   "metadata": {},
   "outputs": [
    {
     "name": "stdout",
     "output_type": "stream",
     "text": [
      "[Bucket('atos-commonapplications-datasets'), Bucket('atos-demo-data'), Bucket('atos-demo-models'), Bucket('commonapplications-demo-data'), Bucket('iot-ngin-demo'), Bucket('wp5-raw-data')]\n"
     ]
    }
   ],
   "source": [
    "list_buckets = client.list_buckets()\n",
    "print(list_buckets)"
   ]
  },
  {
   "cell_type": "code",
   "execution_count": null,
   "metadata": {},
   "outputs": [],
   "source": []
  }
 ],
 "metadata": {
  "kernelspec": {
   "display_name": "Python 3.8.10 ('venv': venv)",
   "language": "python",
   "name": "python3"
  },
  "language_info": {
   "codemirror_mode": {
    "name": "ipython",
    "version": 3
   },
   "file_extension": ".py",
   "mimetype": "text/x-python",
   "name": "python",
   "nbconvert_exporter": "python",
   "pygments_lexer": "ipython3",
   "version": "3.8.10"
  },
  "orig_nbformat": 4,
  "vscode": {
   "interpreter": {
    "hash": "01262f059463ab6d9579d2f03813ac1fb63efd422a42452a10f8662f1b1b0567"
   }
  }
 },
 "nbformat": 4,
 "nbformat_minor": 2
}
