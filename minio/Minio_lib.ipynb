{
 "cells": [
  {
   "cell_type": "markdown",
   "metadata": {},
   "source": [
    "## Libraries and dependencies"
   ]
  },
  {
   "cell_type": "code",
   "execution_count": 1,
   "metadata": {},
   "outputs": [],
   "source": [
    "import os\n",
    "from minio import Minio\n",
    "from dotenv import load_dotenv"
   ]
  },
  {
   "cell_type": "markdown",
   "metadata": {},
   "source": [
    "## Class MinioConection"
   ]
  },
  {
   "cell_type": "markdown",
   "metadata": {},
   "source": [
    "MinIO is Object storage, so it is highly recommendable to use folders with files instead of .zip files or similar."
   ]
  },
  {
   "cell_type": "code",
   "execution_count": 10,
   "metadata": {},
   "outputs": [],
   "source": [
    "#https://min.io/docs/minio/linux/developers/python/API.html\n",
    "class minioConector:\n",
    "    def __init__(self):\n",
    "        load_dotenv()\n",
    "        self.host = os.getenv('MINIO_HOST')\n",
    "        self.access = os.getenv('MINIO_ACCESS_KEY')\n",
    "        self.secret =os.getenv('MINIO_SECRET_KEY')\n",
    "        print(self.host)\n",
    "        self.connection_with_minio = Minio(self.host,\n",
    "            access_key= self.access,\n",
    "            secret_key=self.secret, \n",
    "            secure=True)         \n",
    "\n",
    "\n",
    "    #Files management    \n",
    "\n",
    "\n",
    "    def uploadFiles(self, bucket_name, my_object_name, my_filename_path):\n",
    "        if bucket_name in self.listBuckets():\n",
    "            self.connection_with_minio.fput_object(bucket_name, my_object_name, my_filename_path)\n",
    "        else:\n",
    "            self.createBuckets(bucket_name)\n",
    "            self.connection_with_minio.fput_object(bucket_name, my_object_name, my_filename_path)\n",
    "\n",
    "    def uploadDirectory(self, local_path, bucket_name, minio_path):\n",
    "        assert os.path.isdir(local_path)\n",
    "\n",
    "        for local_file in glob.glob(local_path + '/**'):\n",
    "            local_file = local_file.replace(os.sep, \"/\") # Replace \\ with / on Windows\n",
    "\n",
    "            if not os.path.isfile(local_file):\n",
    "                self.uploadDirectory(local_file, bucket_name, minio_path + \"/\" + os.path.basename(local_file))\n",
    "            else:\n",
    "                remote_path = os.path.join(\n",
    "                    minio_path, local_file[1 + len(local_path):])\n",
    "                remote_path = remote_path.replace(os.sep, \"/\")  # Replace \\ with / on Windows\n",
    "                self.connection_with_minio.fput_object(bucket_name, remote_path, local_file)\n",
    "        \n",
    "\n",
    "    #Buckets management\n",
    "    def downloadBucket(self, bucket_name, file_path):\n",
    "        try:\n",
    "            for item in self.connection_with_minio.list_objects(bucket_name,  recursive=True):\n",
    "                self.connection_with_minio.fget_object(bucket_name, item.object_name, os.path.join(file_path,item.object_name))\n",
    "        except:\n",
    "            print(\"Object storage not reachable\")\n",
    "\n",
    "    def createBuckets(self, Bucket_name):\n",
    "        if self.existBuckets(Bucket_name) == True:\n",
    "            print(Bucket_name,\"bucket already exists\")\n",
    "        else:\n",
    "            self.connection_with_minio.make_bucket(Bucket_name)\n",
    "\n",
    "    def removeBuckets(self, Bucket_name):\n",
    "        if self.existBuckets(Bucket_name) == True:\n",
    "\n",
    "            objects = self.listObjects(Bucket_name)\n",
    "            if objects:\n",
    "                for obj in objects:\n",
    "                    print(obj.object_name)\n",
    "                    self.deleteOjects(Bucket_name, obj.object_name)\n",
    "                self.connection_with_minio.remove_bucket(Bucket_name)\n",
    "            else:\n",
    "                self.connection_with_minio.remove_bucket(Bucket_name)\n",
    "        else:\n",
    "            print(\"Not exist:\", Bucket_name) #Put assert instead print\n",
    "\n",
    "    def listBuckets(self):\n",
    "        return list(self.connection_with_minio.list_buckets())\n",
    "    def existBuckets(self, Bucket_name):\n",
    "        if Bucket_name in self.listBuckets():\n",
    "            return True\n",
    "        else:\n",
    "            return False\n",
    "\n",
    "\n",
    "    #Object management\n",
    "    def listObjects(self, Bucket_name):\n",
    "        return self.connection_with_minio.list_objects(Bucket_name)\n",
    "        \n",
    "    def deleteObjects(self, Bucket_name, Object_name):\n",
    "        self.connection_with_minio.remove_object(Bucket_name, Object_name )\n"
   ]
  },
  {
   "cell_type": "code",
   "execution_count": 11,
   "metadata": {},
   "outputs": [
    {
     "name": "stdout",
     "output_type": "stream",
     "text": [
      "minio-cli.palaemon-shore.ari-aidata.eu\n"
     ]
    }
   ],
   "source": [
    "Minio_object= minioConector()\n"
   ]
  },
  {
   "cell_type": "code",
   "execution_count": 12,
   "metadata": {},
   "outputs": [
    {
     "data": {
      "text/plain": [
       "[Bucket('audio-classification'),\n",
       " Bucket('dataset-ship'),\n",
       " Bucket('driver-profile'),\n",
       " Bucket('idsatest'),\n",
       " Bucket('image-classification'),\n",
       " Bucket('mlflow'),\n",
       " Bucket('ol-service-models'),\n",
       " Bucket('palaemon-indexes'),\n",
       " Bucket('palaemon-reports'),\n",
       " Bucket('ship-stability-toolkit'),\n",
       " Bucket('solar-irradiation'),\n",
       " Bucket('test-idsa')]"
      ]
     },
     "execution_count": 12,
     "metadata": {},
     "output_type": "execute_result"
    }
   ],
   "source": [
    "Minio_object.listBuckets()"
   ]
  },
  {
   "cell_type": "markdown",
   "metadata": {},
   "source": [
    "Becarefull with createBuckets because if you have not permission the method does not run. \n",
    "Also, it is important that MinIO does not support special characters. "
   ]
  },
  {
   "cell_type": "code",
   "execution_count": 13,
   "metadata": {},
   "outputs": [
    {
     "name": "stdout",
     "output_type": "stream",
     "text": [
      "test-idsa bucket already exists\n"
     ]
    }
   ],
   "source": [
    "Minio_object.createBuckets(\"test-idsa\")"
   ]
  },
  {
   "cell_type": "code",
   "execution_count": 14,
   "metadata": {},
   "outputs": [
    {
     "data": {
      "text/plain": [
       "[Bucket('audio-classification'),\n",
       " Bucket('dataset-ship'),\n",
       " Bucket('driver-profile'),\n",
       " Bucket('idsatest'),\n",
       " Bucket('image-classification'),\n",
       " Bucket('mlflow'),\n",
       " Bucket('ol-service-models'),\n",
       " Bucket('palaemon-indexes'),\n",
       " Bucket('palaemon-reports'),\n",
       " Bucket('ship-stability-toolkit'),\n",
       " Bucket('solar-irradiation'),\n",
       " Bucket('test-idsa')]"
      ]
     },
     "execution_count": 14,
     "metadata": {},
     "output_type": "execute_result"
    }
   ],
   "source": [
    "Minio_object.listBuckets()"
   ]
  },
  {
   "cell_type": "code",
   "execution_count": 15,
   "metadata": {},
   "outputs": [],
   "source": [
    "Minio_object.downloadBucket(\"driver-profile\",\"./Data/test\")"
   ]
  },
  {
   "cell_type": "code",
   "execution_count": 16,
   "metadata": {},
   "outputs": [],
   "source": [
    "Minio_object.uploadDirectory(\"./Data/test/iris\", \"test-idsa\", \"Data\")"
   ]
  },
  {
   "cell_type": "code",
   "execution_count": 19,
   "metadata": {},
   "outputs": [],
   "source": [
    "Minio_object.uploadFiles(\"test-idsa\",\"/explainer.dill\",\"./Data/test/explainer.dill\")"
   ]
  },
  {
   "cell_type": "code",
   "execution_count": null,
   "metadata": {},
   "outputs": [],
   "source": []
  }
 ],
 "metadata": {
  "kernelspec": {
   "display_name": "Python 3.8.10 64-bit",
   "language": "python",
   "name": "python3"
  },
  "language_info": {
   "codemirror_mode": {
    "name": "ipython",
    "version": 3
   },
   "file_extension": ".py",
   "mimetype": "text/x-python",
   "name": "python",
   "nbconvert_exporter": "python",
   "pygments_lexer": "ipython3",
   "version": "3.8.10"
  },
  "orig_nbformat": 4,
  "vscode": {
   "interpreter": {
    "hash": "916dbcbb3f70747c44a77c7bcd40155683ae19c65e1c03b4aa3499c5328201f1"
   }
  }
 },
 "nbformat": 4,
 "nbformat_minor": 2
}
