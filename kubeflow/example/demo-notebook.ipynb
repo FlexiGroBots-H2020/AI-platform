{
 "cells": [
  {
   "cell_type": "markdown",
   "id": "49ab063d-262c-4c78-b303-e8bf06aeefac",
   "metadata": {},
   "source": [
    "## Importing Libraries"
   ]
  },
  {
   "cell_type": "code",
   "execution_count": 28,
   "id": "bee12f3f-33da-474e-b228-46aefccd4f46",
   "metadata": {},
   "outputs": [],
   "source": [
    "import os\n",
    "import argparse\n",
    "import logging\n",
    "import yaml\n",
    "from string import Template\n",
    "import json\n",
    "import random\n",
    "\n",
    "\n",
    "import kfp\n",
    "from kfp import dsl\n",
    "from kfp.components import func_to_container_op"
   ]
  },
  {
   "cell_type": "markdown",
   "id": "654dc157",
   "metadata": {},
   "source": [
    "## Define Kubeflow Pipeline"
   ]
  },
  {
   "cell_type": "code",
   "execution_count": null,
   "id": "20d79752",
   "metadata": {},
   "outputs": [],
   "source": [
    "@func_to_container_op\n",
    "def show_results(accuracy :float) -> None:\n",
    "    print(f\"Accuracy of neural network: {accuracy}\")\n",
    "\n",
    "@dsl.pipeline(name='demo_pipeline', description='Fits a simple neural network')\n",
    "def first_pipeline():\n",
    "\n",
    "    download = kfp.components.load_component_from_file('download_data/download_data.yaml')\n",
    "    preprocess_data = kfp.components.load_component_from_file('preprocess_data/preprocess_data.yaml')\n",
    "    train_model = kfp.components.load_component_from_file('train_model/train_model.yaml')\n",
    "\n",
    "    download_task = download()\n",
    "    preprocess_data_task = preprocess_data(download_task.output)\n",
    "    train_model_task = train_model(preprocess_data_task.output)\n",
    "    \n",
    "    show_results(train_model_task.outputs['Accuracy'])\n",
    "    \n",
    "if __name__ == '__main__':\n",
    "    file_name = 'pipeline.yaml'\n",
    "    kfp.compiler.Compiler().compile(first_pipeline, file_name)"
   ]
  },
  {
   "cell_type": "markdown",
   "id": "b61dcfb7-981c-4b1f-8ede-8c95a735b04f",
   "metadata": {},
   "source": [
    "## Upload pipeline"
   ]
  },
  {
   "cell_type": "code",
   "execution_count": 96,
   "id": "281ef22a-329e-4d3e-a730-260f8ad62557",
   "metadata": {},
   "outputs": [],
   "source": [
    "import kfp\n",
    "client=kfp.Client()\n",
    "filepath = '/home/jovyan/AI-platform/kubeflow/example/' + file_name\n",
    "name = 'kubeflow_demo_' + str(random.randint(30000,90000))\n",
    "print(\"Uploaded pipeline:\", name)\n",
    "pipeline = client.pipeline_uploads.upload_pipeline(filepath, name=name)"
   ]
  }
 ],
 "metadata": {
  "kernelspec": {
   "display_name": "Python 3",
   "language": "python",
   "name": "python3"
  },
  "language_info": {
   "codemirror_mode": {
    "name": "ipython",
    "version": 3
   },
   "file_extension": ".py",
   "mimetype": "text/x-python",
   "name": "python",
   "nbconvert_exporter": "python",
   "pygments_lexer": "ipython3",
   "version": "3.8.10"
  }
 },
 "nbformat": 4,
 "nbformat_minor": 5
}
