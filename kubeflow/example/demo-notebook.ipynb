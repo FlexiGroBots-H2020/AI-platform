{
 "cells": [
  {
   "cell_type": "markdown",
   "id": "49ab063d-262c-4c78-b303-e8bf06aeefac",
   "metadata": {},
   "source": [
    "## Importing Libraries"
   ]
  },
  {
   "cell_type": "code",
   "execution_count": 28,
   "id": "bee12f3f-33da-474e-b228-46aefccd4f46",
   "metadata": {},
   "outputs": [],
   "source": [
    "import os\n",
    "import argparse\n",
    "import logging\n",
    "import yaml\n",
    "from string import Template\n",
    "import json \n",
    "\n",
    "\n",
    "import kfp\n",
    "from kfp import dsl\n",
    "from kfp.components import func_to_container_op"
   ]
  },
  {
   "cell_type": "markdown",
   "id": "55068b7a-e2f1-4a9d-8bbb-eb4e1366903c",
   "metadata": {},
   "source": [
    "## Define Kubeflow Pipeline with Inference Service and then create service"
   ]
  },
  {
   "cell_type": "code",
   "execution_count": 66,
   "id": "d50f5787-f06c-4e08-af14-4a1a4c4cfea4",
   "metadata": {},
   "outputs": [
    {
     "name": "stdout",
     "output_type": "stream",
     "text": [
      "{'apiVersion': 'serving.kserve.io/v1beta1', 'kind': 'InferenceService', 'metadata': {'labels': {'controller-tools.k8s.io': '1.0'}, 'name': 'kserve-demo', 'namespace': 'jarmi-recio', 'annotations': {'sidecar.istio.io/inject': 'false'}}, 'spec': {'predictor': {'minReplicas': 1, 'containers': {'name': 'kserve-container', 'image': 'jarmirecio/inference_service_kserve', 'imagePullPolicy': 'Always'}}}}\n"
     ]
    }
   ],
   "source": [
    "@func_to_container_op\n",
    "def show_results(accuracy :float) -> None:\n",
    "    print(f\"Accuracy of neural network: {accuracy}\")\n",
    "\n",
    "@dsl.pipeline(name='demo_pipeline', description='Fits a simple neural network')\n",
    "def first_pipeline():\n",
    "\n",
    "    download = kfp.components.load_component_from_file('download_data/download_data.yaml')\n",
    "    preprocess_data = kfp.components.load_component_from_file('preprocess_data/preprocess_data.yaml')\n",
    "    train_model = kfp.components.load_component_from_file('train_model/train_model.yaml')\n",
    "\n",
    "    download_task = download()\n",
    "    preprocess_data_task = preprocess_data(download_task.output)\n",
    "    train_model_task = train_model(preprocess_data_task.output)\n",
    "    \n",
    "    show_results(train_model_task.outputs['Accuracy'])\n",
    "    \n",
    "    with open('./inference_service/inference_service.yaml', 'r') as f:\n",
    "        doc = yaml.safe_load(f)\n",
    "\n",
    "    template = Template(str(doc))\n",
    "    tensorjson = template.substitute({'NAMESPACE': \"jarmi-recio\"})\n",
    "    deployment = json.loads(tensorjson.replace(\"'\", '\"'))\n",
    "    print(deployment)\n",
    "\n",
    "    deploy = dsl.ResourceOp(\n",
    "        name=\"demo-inference-service\",\n",
    "        k8s_resource=deployment,\n",
    "        action=\"apply\")\n",
    "    \n",
    "    deploy.after(train_model_task)\n",
    "if __name__ == '__main__':\n",
    "    file_name = 'pipeline.yaml'\n",
    "    kfp.compiler.Compiler().compile(first_pipeline, file_name)"
   ]
  },
  {
   "cell_type": "markdown",
   "id": "d94963d3-d86d-4fa2-9654-42a7946cd454",
   "metadata": {},
   "source": [
    "## Define Kubeflow Inference Service and then create service"
   ]
  },
  {
   "cell_type": "code",
   "execution_count": 93,
   "id": "4e0c7be6-a7b8-428c-af12-9b7ac8489e3a",
   "metadata": {},
   "outputs": [
    {
     "name": "stdout",
     "output_type": "stream",
     "text": [
      "{'apiVersion': 'serving.kserve.io/v1beta1', 'kind': 'InferenceService', 'metadata': {'labels': {'controller-tools.k8s.io': '1.0'}, 'name': 'kserve-demo', 'namespace': 'jarmi-recio', 'annotations': {'sidecar.istio.io/inject': 'false'}}, 'spec': {'predictor': {'containers': [{'name': 'kserve-container', 'image': 'jarmirecio/inference_service_kserve_0_7_0'}]}}}\n"
     ]
    }
   ],
   "source": [
    "@func_to_container_op\n",
    "def show_results(accuracy :float) -> None:\n",
    "    print(f\"Accuracy of neural network: {accuracy}\")\n",
    "\n",
    "@dsl.pipeline(name='demo_pipeline', description='Fits a simple neural network')\n",
    "def first_pipeline():\n",
    "\n",
    "    with open('./inference_service/inference_service.yaml', 'r') as f:\n",
    "        doc = yaml.safe_load(f)\n",
    "    \n",
    "    template = Template(str(doc))\n",
    "    tensorjson = template.substitute({'NAMESPACE': \"jarmi-recio\"})\n",
    "    deployment = json.loads(tensorjson.replace(\"'\", '\"'))\n",
    "    print(deployment)\n",
    "\n",
    "    deploy = dsl.ResourceOp(\n",
    "        name=\"demo-inference-service\",\n",
    "        k8s_resource=deployment,\n",
    "        action=\"apply\")\n",
    "\n",
    "if __name__ == '__main__':\n",
    "    file_name = 'pipeline.yaml'\n",
    "    kfp.compiler.Compiler().compile(first_pipeline, file_name)"
   ]
  },
  {
   "cell_type": "markdown",
   "id": "b61dcfb7-981c-4b1f-8ede-8c95a735b04f",
   "metadata": {},
   "source": [
    "## Upload pipeline"
   ]
  },
  {
   "cell_type": "code",
   "execution_count": 96,
   "id": "281ef22a-329e-4d3e-a730-260f8ad62557",
   "metadata": {},
   "outputs": [],
   "source": [
    "import kfp\n",
    "client=kfp.Client()\n",
    "filepath = '/home/jovyan/'+file_name\n",
    "name= 'kubeflow_demo_inference_kserve_20'\n",
    "pipeline = client.pipeline_uploads.upload_pipeline(filepath, name=name)"
   ]
  },
  {
   "cell_type": "code",
   "execution_count": null,
   "id": "d0a5c18a-be6a-42ee-bbb7-c6d5a8013e58",
   "metadata": {},
   "outputs": [],
   "source": []
  }
 ],
 "metadata": {
  "kernelspec": {
   "display_name": "Python 3",
   "language": "python",
   "name": "python3"
  },
  "language_info": {
   "codemirror_mode": {
    "name": "ipython",
    "version": 3
   },
   "file_extension": ".py",
   "mimetype": "text/x-python",
   "name": "python",
   "nbconvert_exporter": "python",
   "pygments_lexer": "ipython3",
   "version": "3.8.10"
  }
 },
 "nbformat": 4,
 "nbformat_minor": 5
}
