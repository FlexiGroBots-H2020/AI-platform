{
 "cells": [
  {
   "cell_type": "markdown",
   "id": "49ab063d-262c-4c78-b303-e8bf06aeefac",
   "metadata": {},
   "source": [
    "## Importing Libraries"
   ]
  },
  {
   "cell_type": "code",
   "execution_count": 1,
   "id": "bee12f3f-33da-474e-b228-46aefccd4f46",
   "metadata": {},
   "outputs": [],
   "source": [
    "from string import Template\n",
    "import random\n",
    "\n",
    "\n",
    "import kfp\n",
    "from kfp import dsl\n",
    "from kfp.components import func_to_container_op"
   ]
  },
  {
   "cell_type": "markdown",
   "id": "654dc157",
   "metadata": {},
   "source": [
    "## Define Kubeflow Pipeline"
   ]
  },
  {
   "cell_type": "code",
   "execution_count": 2,
   "id": "20d79752",
   "metadata": {},
   "outputs": [],
   "source": [
    "@func_to_container_op\n",
    "def show_results(accuracy :float) -> None:\n",
    "    print(f\"Accuracy of neural network: {accuracy}\")\n",
    "\n",
    "@dsl.pipeline(name='demo_pipeline', description='Fits a simple neural network')\n",
    "def first_pipeline():\n",
    "\n",
    "    download = kfp.components.load_component_from_file('download_data/download_data.yaml')\n",
    "    preprocess_data = kfp.components.load_component_from_file('preprocess_data/preprocess_data.yaml')\n",
    "    train_model = kfp.components.load_component_from_file('train_model/train_model.yaml')\n",
    "\n",
    "    download_task = download()\n",
    "    preprocess_data_task = preprocess_data(download_task.output)\n",
    "    train_model_task = train_model(preprocess_data_task.output)\n",
    "    \n",
    "    show_results(train_model_task.outputs['Accuracy'])\n",
    "    \n",
    "if __name__ == '__main__':\n",
    "    file_name = 'pipeline.yaml'\n",
    "    kfp.compiler.Compiler().compile(first_pipeline, file_name)"
   ]
  },
  {
   "cell_type": "markdown",
   "id": "b61dcfb7-981c-4b1f-8ede-8c95a735b04f",
   "metadata": {},
   "source": [
    "## Upload pipeline"
   ]
  },
  {
   "cell_type": "code",
   "execution_count": null,
   "id": "8789f7b1",
   "metadata": {},
   "outputs": [],
   "source": [
    "import kfp\n",
    "# When not specified, host defaults to env var KF_PIPELINES_ENDPOINT.\n",
    "# This is now equivalent to `client = kfp.Client(host='http://localhost:3000')`\n",
    "client = kfp.Client(host='<my-host-url>')\n",
    "print(client.list_experiments())"
   ]
  },
  {
   "cell_type": "code",
   "execution_count": null,
   "id": "9e8c895c",
   "metadata": {},
   "outputs": [],
   "source": [
    "import kfp\n",
    "from kfp.components import create_component_from_func\n",
    "import kfp.dsl as dsl\n",
    "\n",
    "def add(a: float, b: float) -> float:\n",
    "    '''Calculates sum of two arguments'''\n",
    "    return a + b\n",
    "\n",
    "\n",
    "# create a component using the add function\n",
    "add_op = create_component_from_func(add)\n",
    "\n",
    "# compose your pipeline using the dsl.pipeline decorator\n",
    "@dsl.pipeline(\n",
    "    name='Addition pipeline',\n",
    "    description='An example pipeline that performs addition calculations.')\n",
    "def add_pipeline(\n",
    "    a='1',\n",
    "    b='7',\n",
    "):\n",
    "    first_add_task = add_op(a, 4)\n",
    "    second_add_task = add_op(first_add_task.output, b)\n",
    "\n",
    "# instantiate a client and submit your pipeline with arguments\n",
    "client = kfp.Client(host='<my-host-url>')\n",
    "client.create_run_from_pipeline_func(\n",
    "    add_pipeline, arguments={\n",
    "        'a': '7',\n",
    "        'b': '8'\n",
    "    })"
   ]
  },
  {
   "cell_type": "code",
   "execution_count": null,
   "id": "281ef22a-329e-4d3e-a730-260f8ad62557",
   "metadata": {},
   "outputs": [],
   "source": [
    "import kfp\n",
    "client=kfp.Client()\n",
    "#filepath = '/home/jovyan/AI-platform/kubeflow/example/' + file_name\n",
    "filepath = os.getcwd() + file_name\n",
    "name = 'kubeflow_demo_' + str(random.randint(30000,90000))\n",
    "print(\"Uploaded pipeline:\", name)\n",
    "pipeline = client.pipeline_uploads.upload_pipeline(filepath, name=name)"
   ]
  }
 ],
 "metadata": {
  "kernelspec": {
   "display_name": "Python 3.8.10 64-bit",
   "language": "python",
   "name": "python3"
  },
  "language_info": {
   "codemirror_mode": {
    "name": "ipython",
    "version": 3
   },
   "file_extension": ".py",
   "mimetype": "text/x-python",
   "name": "python",
   "nbconvert_exporter": "python",
   "pygments_lexer": "ipython3",
   "version": "3.8.10"
  },
  "vscode": {
   "interpreter": {
    "hash": "916dbcbb3f70747c44a77c7bcd40155683ae19c65e1c03b4aa3499c5328201f1"
   }
  }
 },
 "nbformat": 4,
 "nbformat_minor": 5
}
