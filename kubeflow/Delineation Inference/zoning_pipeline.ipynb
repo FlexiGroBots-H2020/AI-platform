{
 "cells": [
  {
   "cell_type": "code",
   "execution_count": null,
   "id": "13a8c0b7-d7a8-4d83-b3ad-99df349cdd10",
   "metadata": {},
   "outputs": [],
   "source": [
    "# !pip install kfp==1.8.18"
   ]
  },
  {
   "cell_type": "code",
   "execution_count": 27,
   "id": "cf671d4b-68c6-486a-a683-a2dd24e7fa88",
   "metadata": {},
   "outputs": [
    {
     "name": "stdout",
     "output_type": "stream",
     "text": [
      "gotovo sve\n"
     ]
    }
   ],
   "source": [
    "import kfp\n",
    "import kfp.dsl as dsl\n",
    "from kfp import components\n",
    "import kubernetes as k8s\n",
    "from kfp import compiler, dsl\n",
    "from kubernetes.client import V1VolumeMount\n",
    "import pprint\n",
    "import numpy as np\n",
    "\n",
    "\n",
    "@dsl.pipeline(\n",
    "    name=\"Zone delineation pipeline\",\n",
    "    description=\"pipeline for soil sampling and delineation\"\n",
    ")\n",
    "def full_pipeline(size: str=\"2Gi\"):\n",
    "    \n",
    "    vop = dsl.PipelineVolume(\n",
    "        pvc=\"biosens-agrovision-data-volume\",\n",
    "        name=\"biosens-agrovision-data-volume\",\n",
    "    )\n",
    "\n",
    "    download_component = kfp.components.load_component_from_file('download_model.yaml')\n",
    "    zoning_model = kfp.components.load_component_from_file('zoning_model.yaml')\n",
    "    postprocessing_model = kfp.components.load_component_from_file('postprocessing_model.yaml')\n",
    "    \n",
    "    download_component_task = download_component(\n",
    "        \"biosens-test-inference-service\",\n",
    "        \"/mnt/InferenceData/\"\n",
    "        ).add_pvolumes({\"/mnt\": vop})\n",
    "    \n",
    "    \n",
    "    zoning_model_task = zoning_model(\n",
    "        4,\n",
    "        10.0,\n",
    "        \"/mnt/InferenceData/DataTest/shp/TestParcel_Belanovica1.shp\",\n",
    "        \"/mnt/InferenceData/DataTest/GeoTiffs/Belanovica1_processed_transparent_mosaic_red.tif\",\n",
    "        \"/mnt/InferenceData/DataTest/GeoTiffs/Belanovica1_processed_transparent_mosaic_green.tif\",\n",
    "        \"/mnt/InferenceData/DataTest/GeoTiffs/Belanovica1_processed_transparent_mosaic_blue.tif\",\n",
    "        \"/mnt/InferenceData/DataTest/GeoTiffs/Belanovica1_processed_transparent_mosaic_nir.tif\",\n",
    "        \"/mnt/InferenceData/DataTest/GeoTiffs/Belanovica1_processed_transparent_mosaic_red edge.tif\",\n",
    "        \"/mnt/InferenceData/DataTest/zoning_results/run1/\",\n",
    "        download_component_task.output).add_pvolumes({\"/mnt\": vop})\n",
    "    \n",
    "    \n",
    "    \n",
    "    postprocessing_model = postprocessing_model(\n",
    "    \"blueberry-results\",\n",
    "    \"/mnt/InferenceData/DataTest/zoning_results/run1/\",\n",
    "    \"minio-push1/\",\n",
    "    zoning_model_task.output\n",
    "    ).add_pvolumes({\"/mnt\": vop})\n",
    "\n",
    "\n",
    "\n",
    "    print(\"gotovo sve\")\n",
    "if __name__ == '__main__':\n",
    "    file_name = \"full_pipeline.yaml\"\n",
    "    kfp.compiler.Compiler().compile(full_pipeline, file_name)"
   ]
  },
  {
   "cell_type": "code",
   "execution_count": 28,
   "id": "2ee2b1e3-f457-4deb-b618-12d434e153ca",
   "metadata": {},
   "outputs": [
    {
     "name": "stdout",
     "output_type": "stream",
     "text": [
      "Uploaded pipeline: ZoningPipeline12\n"
     ]
    }
   ],
   "source": [
    "import kfp\n",
    "import random\n",
    "client=kfp.Client()\n",
    "filepath = '/home/jovyan/Zoning/' + file_name\n",
    "name = 'ZoningPipeline12'\n",
    "print(\"Uploaded pipeline:\", name)\n",
    "pipeline = client.pipeline_uploads.upload_pipeline(filepath, name=name)"
   ]
  },
  {
   "cell_type": "code",
   "execution_count": null,
   "id": "725f8804-8e4d-411f-9ca8-3d7e9d3b1f46",
   "metadata": {},
   "outputs": [],
   "source": []
  }
 ],
 "metadata": {
  "kernelspec": {
   "display_name": "Python 3",
   "language": "python",
   "name": "python3"
  },
  "language_info": {
   "codemirror_mode": {
    "name": "ipython",
    "version": 3
   },
   "file_extension": ".py",
   "mimetype": "text/x-python",
   "name": "python",
   "nbconvert_exporter": "python",
   "pygments_lexer": "ipython3",
   "version": "3.8.10"
  }
 },
 "nbformat": 4,
 "nbformat_minor": 5
}
