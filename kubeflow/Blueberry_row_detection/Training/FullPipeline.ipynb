{
 "cells": [
  {
   "cell_type": "code",
   "execution_count": null,
   "id": "27ca6fcb-8999-41e1-9940-24073d632f1e",
   "metadata": {},
   "outputs": [],
   "source": [
    "# !pip install kfp==1.8.18\n",
    "# # !pip install kubeflow-katib==0.13.0"
   ]
  },
  {
   "cell_type": "code",
   "execution_count": 211,
   "id": "52c8a178-bdb1-4a86-80bf-686b6ddc4743",
   "metadata": {},
   "outputs": [
    {
     "name": "stdout",
     "output_type": "stream",
     "text": [
      "gotovo sve\n"
     ]
    }
   ],
   "source": [
    "# Copyright 2019 The Kubeflow Authors\n",
    "#\n",
    "# Licensed under the Apache License, Version 2.0 (the \"License\");\n",
    "# you may not use this file except in compliance with the License.\n",
    "# You may obtain a copy of the License at\n",
    "#\n",
    "#      http://www.apache.org/licenses/LICENSE-2.0\n",
    "#\n",
    "# Unless required by applicable law or agreed to in writing, software\n",
    "# distributed under the License is distributed on an \"AS IS\" BASIS,\n",
    "# WITHOUT WARRANTIES OR CONDITIONS OF ANY KIND, either express or implied.\n",
    "# See the License for the specific language governing permissions and\n",
    "# limitations under the License.\n",
    "\n",
    "import kfp\n",
    "import kfp.dsl as dsl\n",
    "from kfp import components\n",
    "import kubernetes as k8s\n",
    "from kfp import compiler, dsl\n",
    "from kubernetes.client import V1VolumeMount\n",
    "import pprint\n",
    "import numpy as np\n",
    "\n",
    "\n",
    "@dsl.pipeline(\n",
    "    name=\"blueberry detection\",\n",
    "    description=\"blueberry detection pipeline\"\n",
    ")\n",
    "def full_pipeline(size: str=\"2Gi\"):\n",
    "    \n",
    "    vop = dsl.PipelineVolume(\n",
    "        pvc=\"biosens-volume-main\", # change with the corresponding volume name #\n",
    "        name=\"biosens-volume-main\",\n",
    "    )\n",
    "\n",
    "    download_component = kfp.components.load_component_from_file('download_model.yaml')\n",
    "    train_model = kfp.components.load_component_from_file('train_model.yaml')\n",
    "    postprocessing_model = kfp.components.load_component_from_file('postprocessing_model.yaml')\n",
    "\n",
    "    \n",
    "    download_component_task = download_component(\n",
    "        \"blueberry-full\", # minIO bucket where the data is storade\n",
    "        \"/mnt\"\n",
    "        ).add_pvolumes({\"/mnt\": vop})\n",
    "    download_component_task.execution_options.caching_strategy.max_cache_staleness = \"P0D\" # avoiding caching\n",
    "    train_model_task = train_model(\n",
    "        [1e-3], #'Learning rate'\n",
    "        [1], #'Lambda parametar'\n",
    "        [5], #'Stepovi arr'\n",
    "        [8], #'num_epochs'\n",
    "        ['bce'], #'Lloss_type'\n",
    "        [2], #'Batch_size'\n",
    "        \"UNet++\", #'Type of Network that will be run. Available model architectures: UNet3, UNet++, SegNet, PSPNet, UperNet, DUC_HDCNet'\n",
    "        \"cuda\", #'will torch run on cuda (gpu) or cpu'\n",
    "        \"/mnt/FullSet/trening_set/img/\", # 'trening_location'\n",
    "        \"/mnt/FullSet/validation_set/img/\", #'validation_location'\n",
    "        \"/mnt/FullSet/test_set/img/\", #'test_location'\n",
    "        # \"/mnt\" # if download is pruned this should replace the line bellow\n",
    "        download_component_task.output\n",
    "        ).add_pvolumes({\"/mnt\": vop})\n",
    "\n",
    "    train_model_task.set_gpu_limit(1)\n",
    "    train_model_task.execution_options.caching_strategy.max_cache_staleness = \"P0D\" # avoiding caching\n",
    "    postprocessing_model = postprocessing_model(\n",
    "        \"/mnt/logs/train_pipeline_nettype/\", # nettype can be changed with corresponding net type in the moment of creating pipelines\n",
    "        \"blueberry-results\", # output minIO bucket for storing results\n",
    "        train_model_task.output\n",
    "        ).add_pvolumes({\"/mnt\": vop})\n",
    "    \n",
    "    \n",
    "    \n",
    "    print(\"gotovo sve\")\n",
    "if __name__ == '__main__':\n",
    "    file_name = \"full_nettype_pipeline.yaml\" # nettype can be changed with corresponding net type in the moment of creating pipelines\n",
    "    kfp.compiler.Compiler().compile(full_pipeline, file_name)"
   ]
  },
  {
   "cell_type": "code",
   "execution_count": 212,
   "id": "238bd389-4d19-4c25-bb50-43cd6a88f8a8",
   "metadata": {},
   "outputs": [
    {
     "name": "stdout",
     "output_type": "stream",
     "text": [
      "Uploaded pipeline: TrainPipelineNetType_DUC_HDCNet_0910_20112023\n"
     ]
    }
   ],
   "source": [
    "import kfp\n",
    "import random\n",
    "client=kfp.Client()\n",
    "filepath = '/home/jovyan/biosens-volume-main/' + file_name\n",
    "name = 'train_pipeline_nettype_timestamp' # nettype and timestamp can be changed with corresponding net type and time in the moment of creating pipelines\n",
    "print(\"Uploaded pipeline:\", name)\n",
    "pipeline = client.pipeline_uploads.upload_pipeline(filepath, name=name)"
   ]
  },
  {
   "cell_type": "code",
   "execution_count": null,
   "id": "0d2b0afa-9091-4b85-9572-54b2ce379aac",
   "metadata": {},
   "outputs": [],
   "source": []
  },
  {
   "cell_type": "code",
   "execution_count": null,
   "id": "152da4ea-c657-4651-b396-de9a66c81133",
   "metadata": {},
   "outputs": [],
   "source": []
  }
 ],
 "metadata": {
  "kernelspec": {
   "display_name": "Python 3 (ipykernel)",
   "language": "python",
   "name": "python3"
  },
  "language_info": {
   "codemirror_mode": {
    "name": "ipython",
    "version": 3
   },
   "file_extension": ".py",
   "mimetype": "text/x-python",
   "name": "python",
   "nbconvert_exporter": "python",
   "pygments_lexer": "ipython3",
   "version": "3.8.10"
  }
 },
 "nbformat": 4,
 "nbformat_minor": 5
}
