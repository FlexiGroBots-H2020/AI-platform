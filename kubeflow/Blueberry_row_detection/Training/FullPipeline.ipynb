{
 "cells": [
  {
   "cell_type": "code",
   "execution_count": 56,
   "id": "52c8a178-bdb1-4a86-80bf-686b6ddc4743",
   "metadata": {},
   "outputs": [
    {
     "name": "stdout",
     "output_type": "stream",
     "text": [
      "gotovo sve\n"
     ]
    }
   ],
   "source": [
    "# Copyright 2019 The Kubeflow Authors\n",
    "#\n",
    "# Licensed under the Apache License, Version 2.0 (the \"License\");\n",
    "# you may not use this file except in compliance with the License.\n",
    "# You may obtain a copy of the License at\n",
    "#\n",
    "#      http://www.apache.org/licenses/LICENSE-2.0\n",
    "#\n",
    "# Unless required by applicable law or agreed to in writing, software\n",
    "# distributed under the License is distributed on an \"AS IS\" BASIS,\n",
    "# WITHOUT WARRANTIES OR CONDITIONS OF ANY KIND, either express or implied.\n",
    "# See the License for the specific language governing permissions and\n",
    "# limitations under the License.\n",
    "\n",
    "import kfp\n",
    "import kfp.dsl as dsl\n",
    "from kfp import components\n",
    "import kubernetes as k8s\n",
    "from kfp import compiler, dsl\n",
    "from kubernetes.client import V1VolumeMount\n",
    "import pprint\n",
    "import numpy as np\n",
    "\n",
    "\n",
    "@dsl.pipeline(\n",
    "    name=\"blueberry detection\",\n",
    "    description=\"blueberry detection pipeline\"\n",
    ")\n",
    "def full_pipeline(size: str=\"2Gi\"):\n",
    "    \n",
    "    vop = dsl.PipelineVolume(\n",
    "        pvc=\"biosens-agrovision-data-volume\",\n",
    "        name=\"biosens-agrovision-data-volume\",\n",
    "    )\n",
    "\n",
    "    download_component = kfp.components.load_component_from_file('download/download_model.yaml')\n",
    "    train_model = kfp.components.load_component_from_file('train/train_model.yaml')\n",
    "    postprocessing_model = kfp.components.load_component_from_file('postprocessing/postprocessing_model.yaml')\n",
    "    \n",
    "# #     #build pipeline\n",
    "#     download_component_task = download_component(\n",
    "#         \"blueberry-data\",\n",
    "#         \"/mnt\"\n",
    "#         ).add_pvolumes({\"/mnt\": vop})\n",
    "#     train_model_task = train_model(\n",
    "#         [1e-1, 1e-2, 1e-3, 1e-4, 1e-5], \n",
    "#         [2,4,6], \n",
    "#         [5,10,15],\n",
    "#         [20,40,60,80,100],\n",
    "#         ['bce', 'kldiv', 'gaussian'],\n",
    "#         [8,16,32,64],\n",
    "#         \"/mnt/FullSet/trening_set_mini2/img\",\n",
    "#         \"/mnt/FullSet/validation_set_mini2/img\",\n",
    "#         \"/mnt/FullSet/test_set_mini2/img\",\n",
    "#         download_component_task.output).add_pvolumes({\"/mnt\": vop})\n",
    "#     postprocessing_model = postprocessing_model(\"/mnt/logs4/Train_BGFG_BCE_with_weightsUnet3/\",\n",
    "#                                                 train_model_task.output\n",
    "#                                                ).add_pvolumes({\"/mnt\": vop})\n",
    "    #build pipeline\n",
    "    download_component_task = download_component(\n",
    "        \"blueberry-data\",\n",
    "        \"/mnt\"\n",
    "        ).add_pvolumes({\"/mnt\": vop})\n",
    "    train_model_task = train_model(\n",
    "        [1e-1], \n",
    "        [2], \n",
    "        [5],\n",
    "        [20],\n",
    "        ['bce'],\n",
    "        [8],\n",
    "        \"/mnt/FullSet/trening_set_mini2/img\",\n",
    "        \"/mnt/FullSet/validation_set_mini2/img\",\n",
    "        \"/mnt/FullSet/test_set_mini2/img\",\n",
    "        download_component_task.output).add_pvolumes({\"/mnt\": vop})\n",
    "    postprocessing_model = postprocessing_model(\n",
    "        \"/mnt/logs4/Train_BGFG_BCE_with_weightsUnet3/\",\n",
    "        \"blueberry-results\",\n",
    "        train_model_task.output\n",
    "        ).add_pvolumes({\"/mnt\": vop})    \n",
    "\n",
    "    \n",
    "    \n",
    "    \n",
    "    print(\"gotovo sve\")\n",
    "if __name__ == '__main__':\n",
    "    file_name = \"full_pipeline.yaml\"\n",
    "    kfp.compiler.Compiler().compile(full_pipeline, file_name)"
   ]
  },
  {
   "cell_type": "code",
   "execution_count": 58,
   "id": "238bd389-4d19-4c25-bb50-43cd6a88f8a8",
   "metadata": {},
   "outputs": [
    {
     "name": "stderr",
     "output_type": "stream",
     "text": [
      "ERROR:root:Failed to read a token from file '/var/run/secrets/kubeflow/pipelines/token' ([Errno 2] No such file or directory: '/var/run/secrets/kubeflow/pipelines/token').\n",
      "WARNING:root:Failed to set up default credentials. Proceeding without credentials...\n"
     ]
    },
    {
     "name": "stdout",
     "output_type": "stream",
     "text": [
      "Uploaded pipeline: blueberry_full_pipeline_sastanak_74611\n"
     ]
    }
   ],
   "source": [
    "import kfp\n",
    "import random\n",
    "client=kfp.Client()\n",
    "filepath = '/home/jovyan/final_working/' + file_name\n",
    "name = 'blueberry_full_pipeline_sastanak_' + str(random.randint(30000,90000))\n",
    "print(\"Uploaded pipeline:\", name)\n",
    "pipeline = client.pipeline_uploads.upload_pipeline(filepath, name=name)"
   ]
  }
 ],
 "metadata": {
  "kernelspec": {
   "display_name": "Python 3",
   "language": "python",
   "name": "python3"
  },
  "language_info": {
   "codemirror_mode": {
    "name": "ipython",
    "version": 3
   },
   "file_extension": ".py",
   "mimetype": "text/x-python",
   "name": "python",
   "nbconvert_exporter": "python",
   "pygments_lexer": "ipython3",
   "version": "3.8.10"
  }
 },
 "nbformat": 4,
 "nbformat_minor": 5
}
