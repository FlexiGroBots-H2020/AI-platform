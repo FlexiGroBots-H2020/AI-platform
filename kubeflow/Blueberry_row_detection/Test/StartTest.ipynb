{
 "cells": [
  {
   "cell_type": "code",
   "execution_count": 23,
   "id": "a9c50fbd-fff7-421b-92bc-2182eaa69d0b",
   "metadata": {},
   "outputs": [
    {
     "name": "stdout",
     "output_type": "stream",
     "text": [
      "gotovo sve\n"
     ]
    }
   ],
   "source": [
    "import kfp\n",
    "import kfp.dsl as dsl\n",
    "from kfp import components\n",
    "import kubernetes as k8s\n",
    "from kfp import compiler, dsl\n",
    "from kubernetes.client import V1VolumeMount\n",
    "import pprint\n",
    "import numpy as np\n",
    "\n",
    "\n",
    "@dsl.pipeline(\n",
    "    name=\"blueberry detection\",\n",
    "    description=\"blueberry detection pipeline\"\n",
    ")\n",
    "def full_pipeline(size: str=\"2Gi\"):\n",
    "    \n",
    "    vop = dsl.PipelineVolume(\n",
    "        pvc=\"biosens-agrovision-data-volume\",\n",
    "        name=\"biosens-agrovision-data-volume\",\n",
    "    )\n",
    "    \n",
    "    download_component = kfp.components.load_component_from_file('download_model.yaml')\n",
    "    test_component = kfp.components.load_component_from_file('test_component.yaml')\n",
    "    postprocessing_model = kfp.components.load_component_from_file('postprocessing_model.yaml')\n",
    "    \n",
    "    #UNET3\n",
    "    model_dir = \"/mnt/logs/Train_BGFG_BCE_with_weightsUnet3/1_24_01_2023_13_09_38_lr_0.1_step_na_5_epoha_lambda_parametar_1_batch_size_8_sched_multiplicative_loss_bce/\"\n",
    "    model_name = \"fully_trained_model_epochs_19_lr_0.1_step_5_Lambda_parametar_1_loss_type_bce_arhitektura_UNet3_batch_size_8.pt\"\n",
    "    model_path = model_dir + model_name\n",
    "\n",
    "#     #SegNet\n",
    "#     model_dir = \"/mnt/logs/Train_BGFG_BCE_with_weightsUnet3/0_20_03_2023_07_50_46_lr_0.001_step_na_5_epoha_lambda_parametar_1_batch_size_8_sched_multiplicative_loss_bce/\"\n",
    "#     model_name = \"fully_trained_model_epochs_19_lr_0.001_step_5_Lambda_parametar_1_loss_type_bce_arhitektura_SegNet_batch_size_8.pt\"\n",
    "#     model_path = model_dir + model_name\n",
    "    \n",
    "    \n",
    "    download_component_task = download_component(\n",
    "        \"biosens-test\",\n",
    "        \"/mnt\"\n",
    "        ).add_pvolumes({\"/mnt\": vop})\n",
    "#     download_component_task.execution_options.caching_strategy.max_cache_staleness = \"P0D\"\n",
    "    \n",
    "    test_component_task = test_component(\n",
    "        model_path,\n",
    "        \"UNet3\",\n",
    "        \"cuda\",\n",
    "        download_component_task.output\n",
    "        ).add_pvolumes({\"/mnt\": vop})\n",
    "    test_component_task.set_gpu_limit(1)\n",
    "#     test_component_task.execution_options.caching_strategy.max_cache_staleness = \"P0D\"\n",
    "    \n",
    "#     postprocessing_model = postprocessing_model(\n",
    "#         \"/mnt/DataTest/final_results_folder/test_parcel.tif\",\n",
    "#         \"test-result\",\n",
    "#         test_component_task.output\n",
    "#         ).add_pvolumes({\"/mnt\": vop}) \n",
    "#     postprocessing_model.execution_options.caching_strategy.max_cache_staleness = \"P0D\"\n",
    "    \n",
    "    \n",
    "    print(\"gotovo sve\")\n",
    "if __name__ == '__main__':\n",
    "    file_name = \"full_pipeline.yaml\"\n",
    "    kfp.compiler.Compiler().compile(full_pipeline, file_name)"
   ]
  },
  {
   "cell_type": "code",
   "execution_count": 24,
   "id": "586c90b5-2f31-4b3b-9afb-f1a39346f385",
   "metadata": {},
   "outputs": [
    {
     "name": "stdout",
     "output_type": "stream",
     "text": [
      "Uploaded pipeline: Blueberry_test_newUNetOnGPU16\n"
     ]
    }
   ],
   "source": [
    "import kfp\n",
    "import random\n",
    "client=kfp.Client()\n",
    "filepath = '/home/jovyan/AI-platform/kubeflow/Blueberry_row_detection/Test/' + file_name\n",
    "name = 'Blueberry_test_newUNetOnGPU16'\n",
    "print(\"Uploaded pipeline:\", name)\n",
    "pipeline = client.pipeline_uploads.upload_pipeline(filepath, name=name)"
   ]
  },
  {
   "cell_type": "code",
   "execution_count": null,
   "id": "328e766e-707f-4d6b-8a36-5677e1c69e9f",
   "metadata": {},
   "outputs": [],
   "source": []
  }
 ],
 "metadata": {
  "kernelspec": {
   "display_name": "Python 3",
   "language": "python",
   "name": "python3"
  },
  "language_info": {
   "codemirror_mode": {
    "name": "ipython",
    "version": 3
   },
   "file_extension": ".py",
   "mimetype": "text/x-python",
   "name": "python",
   "nbconvert_exporter": "python",
   "pygments_lexer": "ipython3",
   "version": "3.8.10"
  }
 },
 "nbformat": 4,
 "nbformat_minor": 5
}
