{
 "cells": [
  {
   "cell_type": "code",
   "execution_count": 23,
   "id": "a9c50fbd-fff7-421b-92bc-2182eaa69d0b",
   "metadata": {},
   "outputs": [
    {
     "name": "stdout",
     "output_type": "stream",
     "text": [
      "gotovo sve\n"
     ]
    }
   ],
   "source": [
    "import kfp\n",
    "import kfp.dsl as dsl\n",
    "from kfp import components\n",
    "import kubernetes as k8s\n",
    "from kfp import compiler, dsl\n",
    "from kubernetes.client import V1VolumeMount\n",
    "import pprint\n",
    "import numpy as np\n",
    "\n",
    "\n",
    "@dsl.pipeline(\n",
    "    name=\"blueberry detection\",\n",
    "    description=\"blueberry detection pipeline\"\n",
    ")\n",
    "def full_pipeline(size: str=\"2Gi\"):\n",
    "    \n",
    "    vop = dsl.PipelineVolume(\n",
    "        pvc=\"test-notebook-datavol-1\",\n",
    "        name=\"test-notebook-datavol-1\",\n",
    "    )\n",
    "    \n",
    "    download_component = kfp.components.load_component_from_file('download_model.yaml')\n",
    "    test_component = kfp.components.load_component_from_file('test_component.yaml')\n",
    "    postprocessing_model = kfp.components.load_component_from_file('postprocessing_model.yaml')\n",
    "    \n",
    "    #UNET3\n",
    "    model_dir = \"/mnt/model/\"\n",
    "    model_name = \"blueberry_row_detection_model.pt\"\n",
    "    model_path = model_dir + model_name\n",
    "    \n",
    "    download_component_task = download_component(\n",
    "        \"biosens-test-inference-service\", # minIO bucket where the data is stored\n",
    "        \"/mnt\" # root folder in the notebook\n",
    "        ).add_pvolumes({\"/mnt\": vop})\n",
    "    download_component_task.execution_options.caching_strategy.max_cache_staleness = \"P0D\"\n",
    "    \n",
    "    test_component_task = test_component(\n",
    "        model_path,\n",
    "        \"UnetPlusPlus\", # specifying model type\n",
    "        \"cuda\", # specifying the device for running inference service\n",
    "        download_component_task.output\n",
    "        ).add_pvolumes({\"/mnt\": vop})\n",
    "    test_component_task.set_gpu_limit(1)\n",
    "    test_component_task.execution_options.caching_strategy.max_cache_staleness = \"P0D\"\n",
    "    \n",
    "    postprocessing_model = postprocessing_model(\n",
    "        \"blueberry-results\", # minIO bucket for uploading results\n",
    "        \"/mnt/DataTest/final_results_folder/unetpp_test_parcel_belanovica.tiff\", # minIO path for uploading tif file that contains detected rows  \n",
    "        \"/mnt/DataTest/final_results_folder/unetpp_test_rgb_masked_with_red_belanovica.tiff\", # minIO path for uploading tif file that contains detected rows overlaped on rgb orthomosaic \n",
    "        \"/mnt/DataTest/final_results_folder/unetpp_test_parcel_belanovica.shp\", # minIO path for uploading shp file that contains detected rows\n",
    "        test_component_task.output).add_pvolumes({\"/mnt\": vop}) \n",
    "    \n",
    "    \n",
    "    print(\"gotovo sve\")\n",
    "if __name__ == '__main__':\n",
    "    file_name = \"full_pipeline.yaml\"\n",
    "    kfp.compiler.Compiler().compile(full_pipeline, file_name)"
   ]
  },
  {
   "cell_type": "code",
   "execution_count": 24,
   "id": "586c90b5-2f31-4b3b-9afb-f1a39346f385",
   "metadata": {},
   "outputs": [
    {
     "name": "stdout",
     "output_type": "stream",
     "text": [
      "Uploaded pipeline: Blueberry_test_newUNetOnGPU16\n"
     ]
    }
   ],
   "source": [
    "import kfp\n",
    "import random\n",
    "client=kfp.Client()\n",
    "filepath = '/home/jovyan/test-notebook-datavol-1/' + file_name\n",
    "name = 'Blueberry_test_timestamp'\n",
    "print(\"Uploaded pipeline:\", name)\n",
    "pipeline = client.pipeline_uploads.upload_pipeline(filepath, name=name)"
   ]
  },
  {
   "cell_type": "code",
   "execution_count": null,
   "id": "328e766e-707f-4d6b-8a36-5677e1c69e9f",
   "metadata": {},
   "outputs": [],
   "source": []
  }
 ],
 "metadata": {
  "kernelspec": {
   "display_name": "Python 3",
   "language": "python",
   "name": "python3"
  },
  "language_info": {
   "codemirror_mode": {
    "name": "ipython",
    "version": 3
   },
   "file_extension": ".py",
   "mimetype": "text/x-python",
   "name": "python",
   "nbconvert_exporter": "python",
   "pygments_lexer": "ipython3",
   "version": "3.8.10"
  }
 },
 "nbformat": 4,
 "nbformat_minor": 5
}
