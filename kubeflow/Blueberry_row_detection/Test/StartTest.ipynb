{
 "cells": [
  {
   "cell_type": "code",
   "execution_count": 39,
   "id": "a9c50fbd-fff7-421b-92bc-2182eaa69d0b",
   "metadata": {},
   "outputs": [
    {
     "name": "stdout",
     "output_type": "stream",
     "text": [
      "gotovo sve\n"
     ]
    }
   ],
   "source": [
    "import kfp\n",
    "import kfp.dsl as dsl\n",
    "from kfp import components\n",
    "import kubernetes as k8s\n",
    "from kfp import compiler, dsl\n",
    "from kubernetes.client import V1VolumeMount\n",
    "import pprint\n",
    "import numpy as np\n",
    "\n",
    "\n",
    "@dsl.pipeline(\n",
    "    name=\"blueberry detection\",\n",
    "    description=\"blueberry detection pipeline\"\n",
    ")\n",
    "def full_pipeline(size: str=\"2Gi\"):\n",
    "    \n",
    "    vop = dsl.PipelineVolume(\n",
    "        pvc=\"biosens-agrovision-data-volume\",\n",
    "        name=\"biosens-agrovision-data-volume\",\n",
    "    )\n",
    "    \n",
    "    download_component = kfp.components.load_component_from_file('download/download_model.yaml')\n",
    "    test_component = kfp.components.load_component_from_file('test_component.yaml')\n",
    "    postprocessing_model = kfp.components.load_component_from_file('postprocessing/postprocessing_model.yaml')\n",
    "    \n",
    "    \n",
    "    \n",
    "    download_component_task = download_component(\n",
    "        \"biosens-test\",\n",
    "        \"/mnt\"\n",
    "        ).add_pvolumes({\"/mnt\": vop})\n",
    "    download_component_task.execution_options.caching_strategy.max_cache_staleness = \"P0D\"\n",
    "    \n",
    "    test_component_task = test_component(\n",
    "        download_component_task.output\n",
    "        ).add_pvolumes({\"/mnt\": vop})#.execution_options.caching_strategy.max_cache_staleness = \"P0D\"\n",
    "    test_component_task.execution_options.caching_strategy.max_cache_staleness = \"P0D\"\n",
    "    \n",
    "    postprocessing_model = postprocessing_model(\n",
    "        \"/mnt/DataTest/final_results_folder/test_parcel.tif\",\n",
    "        \"test-result\",\n",
    "        test_component_task.output\n",
    "        ).add_pvolumes({\"/mnt\": vop}) \n",
    "    postprocessing_model.execution_options.caching_strategy.max_cache_staleness = \"P0D\"\n",
    "    \n",
    "    \n",
    "    print(\"gotovo sve\")\n",
    "if __name__ == '__main__':\n",
    "    file_name = \"full_pipeline.yaml\"\n",
    "    kfp.compiler.Compiler().compile(full_pipeline, file_name)"
   ]
  },
  {
   "cell_type": "code",
   "execution_count": 40,
   "id": "586c90b5-2f31-4b3b-9afb-f1a39346f385",
   "metadata": {},
   "outputs": [
    {
     "name": "stderr",
     "output_type": "stream",
     "text": [
      "ERROR:root:Failed to read a token from file '/var/run/secrets/kubeflow/pipelines/token' ([Errno 2] No such file or directory: '/var/run/secrets/kubeflow/pipelines/token').\n",
      "WARNING:root:Failed to set up default credentials. Proceeding without credentials...\n"
     ]
    },
    {
     "name": "stdout",
     "output_type": "stream",
     "text": [
      "Uploaded pipeline: blueberry_test_component_62086\n"
     ]
    }
   ],
   "source": [
    "import kfp\n",
    "import random\n",
    "client=kfp.Client()\n",
    "filepath = '/home/jovyan/test_working/' + file_name\n",
    "name = 'blueberry_test_component_' + str(random.randint(30000,90000))\n",
    "print(\"Uploaded pipeline:\", name)\n",
    "pipeline = client.pipeline_uploads.upload_pipeline(filepath, name=name)"
   ]
  }
 ],
 "metadata": {
  "kernelspec": {
   "display_name": "Python 3",
   "language": "python",
   "name": "python3"
  },
  "language_info": {
   "codemirror_mode": {
    "name": "ipython",
    "version": 3
   },
   "file_extension": ".py",
   "mimetype": "text/x-python",
   "name": "python",
   "nbconvert_exporter": "python",
   "pygments_lexer": "ipython3",
   "version": "3.8.10"
  }
 },
 "nbformat": 4,
 "nbformat_minor": 5
}
